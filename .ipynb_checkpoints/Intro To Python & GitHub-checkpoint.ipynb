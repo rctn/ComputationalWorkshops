{
 "cells": [
  {
   "cell_type": "markdown",
   "metadata": {},
   "source": [
    "<img src=\"./img/WorkshopSeriesHeader.png\"/>\n",
    "<h1 align=\"center\"> Intro to Python and GitHub </h1>"
   ]
  },
  {
   "cell_type": "markdown",
   "metadata": {},
   "source": [
    "## PreSuggestions\n",
    "### Background Knowledge:\n",
    " - Some kind of programming experience\n",
    "     - basic concepts like for loops & if statements in any language\n",
    "     - if not see  https://www.codecademy.com/learn/python\n",
    "\n",
    "### GitHub Account:\n",
    "    http://github.com/join/\n",
    "\n",
    "### Software Installed: \n",
    "- Anaconda Python\n",
    "- Jupyter Notebooks (includes numpy, ipython)"
   ]
  },
  {
   "cell_type": "markdown",
   "metadata": {},
   "source": [
    "## GitHub (Dylan)\n",
    " - Setup a Repo\n",
    " - Commit to it"
   ]
  },
  {
   "cell_type": "markdown",
   "metadata": {},
   "source": [
    "## Resources \n",
    "(A lot of what is here is inspired by these)  \n",
    "- Entry Level Python - https://www.codecademy.com/learn/python  \n",
    "- Why to swith from Matlab to Python - https://ajminich.com/2013/06/22/9-reasons-to-switch-from-matlab-to-python/  \n",
    "- Numpy for Matlab Users - http://scipy.github.io/old-wiki/pages/NumPy_for_Matlab_Users.html  \n",
    "- Numpy/Matlab Legend http://mathesaurus.sourceforge.net/matlab-numpy.html  \n",
    "- Numpy/R Legend http://mathesaurus.sourceforge.net/r-numpy.html  \n",
    "- THE Python Tutorial - https://docs.python.org/3.3/tutorial/  \n",
    "- List of Tutorials - https://wiki.python.org/moin/BeginnersGuide/Programmers  \n",
    "- Python2 vs Python3 - http://sebastianraschka.com/Articles/2014_python_2_3_key_diff.html   \n",
    "- Python Style Guide - https://google.github.io/styleguide/pyguide.html  \n",
    "    "
   ]
  },
  {
   "cell_type": "markdown",
   "metadata": {},
   "source": [
    "## Why Python is Great!\n",
    "\n",
    "- Free\n",
    "- Scripts & Object orientede programming\n",
    "- DB Management Libraries\n",
    "- Website (flask)\n",
    "- AWESOME support"
   ]
  },
  {
   "cell_type": "markdown",
   "metadata": {},
   "source": [
    "## Differences between Python3 and other Languages\n",
    "\n",
    "What Languages are people familiar with? (Matlab, R, C, others?)\n",
    "\n",
    "- No IDE, so how can we interact with it ???\n",
    "     - Run scripts directly from command line. But you'll need an editor (atom, sublimetext, emacs/vim) **example**\n",
    "     - ipython\n",
    "     - Use Jupyter notebooks (my preferred - but won't work well on a scheduled cluster)\n",
    "     - SPIDER IDE\n",
    "     - JupyterLab (still in $\\alpha$)\n",
    "- whitespace language\n",
    "    - don't need 'end' to end a loop, just de-indent\n",
    "    - no ; needed to supress output as in Matlab\n",
    "    - no {} required as in C\n",
    "- mutability **example**\n",
    "- zero based indexing **example**\n",
    "- Python2 vs Python3 (Python3 came out in 2008! - Python2 really IS legacy now.)"
   ]
  },
  {
   "cell_type": "markdown",
   "metadata": {},
   "source": [
    "## Jupyter Notebooks in Python\n",
    "\n",
    "Let's try it out!!!\n",
    "- \n",
    "- LateX too!"
   ]
  },
  {
   "cell_type": "markdown",
   "metadata": {},
   "source": [
    "## Useful Packages & Datastructures in Python\n",
    "\n",
    "Numpy: **example**\n",
    "    \n",
    "histogram with rand and a histogram\n",
    "\n",
    "Importing:\n",
    "    import numpy OR import numpy as np\n",
    "    np.\n",
    "\n",
    "Plotting:\n",
    "    MatplotLib *ex*\n",
    "    Bokeh & Seaborn\n",
    "\n",
    "ML:\n",
    "    scikit-learn\n",
    "    Theano/Caffe/Tensorflow"
   ]
  },
  {
   "cell_type": "code",
   "execution_count": null,
   "metadata": {
    "collapsed": true
   },
   "outputs": [],
   "source": [
    "import numpy as np\n",
    "import matplotlib.pyplot as plt\n",
    "import tensorflow as tf (sneak peak!)\n",
    "\n",
    "generate some data with numpy and plot it in matplotlib\n",
    "\n",
    "show them a cell with my example - make them implement it."
   ]
  },
  {
   "cell_type": "markdown",
   "metadata": {},
   "source": [
    "## Debugging (Shariq)"
   ]
  }
 ],
 "metadata": {
  "anaconda-cloud": {},
  "kernelspec": {
   "display_name": "Python [default]",
   "language": "python",
   "name": "python3"
  },
  "language_info": {
   "codemirror_mode": {
    "name": "ipython",
    "version": 3
   },
   "file_extension": ".py",
   "mimetype": "text/x-python",
   "name": "python",
   "nbconvert_exporter": "python",
   "pygments_lexer": "ipython3",
   "version": "3.5.2"
  }
 },
 "nbformat": 4,
 "nbformat_minor": 1
}
