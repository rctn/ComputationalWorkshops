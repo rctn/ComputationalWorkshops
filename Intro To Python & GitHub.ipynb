{
 "cells": [
  {
   "cell_type": "markdown",
   "metadata": {},
   "source": [
    "<img src=\"./img/WorkshopSeriesHeader.png\"/>\n",
    "<h1 align=\"center\"> Intro to Python and GitHub </h1>"
   ]
  },
  {
   "cell_type": "markdown",
   "metadata": {},
   "source": [
    "## PreSuggestions\n",
    "### Background Knowledge:\n",
    " - Some kind of programming experience\n",
    "     - basic concepts like for loops & if statements in any language\n",
    "     - if not see  https://www.codecademy.com/learn/python\n",
    "\n",
    "### GitHub Account:\n",
    "    http://github.com/join/\n",
    "\n",
    "### Software Installed: \n",
    "- Anaconda Python\n",
    "- Jupyter Notebooks (includes numpy, ipython)"
   ]
  },
  {
   "cell_type": "markdown",
   "metadata": {},
   "source": [
    "## GitHub (Dylan)\n",
    " - Setup a Repo\n",
    " - Commit to it"
   ]
  },
  {
   "cell_type": "markdown",
   "metadata": {},
   "source": [
    "## Why Python is Great!\n",
    "\n",
    "- Free!\n",
    "- Easy to read & write\n",
    "- Transparant (not proprietary)\n",
    "- Scripts & Object oriented programming\n",
    "- Portability\n",
    "- DB Management Libraries\n",
    "- Website (flask)\n",
    "- AWESOME support\n",
    "- Many options for plotting\n",
    "\n",
    "[More reasons](http://www.pyzo.org/python_vs_matlab.html)"
   ]
  },
  {
   "cell_type": "markdown",
   "metadata": {},
   "source": [
    "## Differences between Python3 and other Languages\n",
    "\n",
    "What Languages are people familiar with? (Matlab, R, C, others?)\n",
    "\n",
    "- No IDE, so how can we interact with it ???\n",
    "     - python interactive session / ipython **example**\n",
    "     - Run scripts directly from command line. But you'll need an editor (atom, sublimetext, nano/emacs/vim) **example**\n",
    "     - Use Jupyter notebooks (my preferred - but won't work well on a scheduled cluster)\n",
    "     - SPIDER IDE\n",
    "     - JupyterLab (still in $\\alpha$)\n",
    "- whitespace language\n",
    "    - don't need 'end' to end a loop, just de-indent"
   ]
  },
  {
   "cell_type": "markdown",
   "metadata": {},
   "source": [
    "A List:\n",
    "- Like a Matlab array\n",
    "- Can hold anything\n",
    "- zero based indexing"
   ]
  },
  {
   "cell_type": "code",
   "execution_count": null,
   "metadata": {
    "collapsed": false
   },
   "outputs": [],
   "source": [
    "vector = ['a',3,'c','d']\n",
    "print('vector[0] is ', vector[0])\n",
    "print('vector[1] is ', vector[1])"
   ]
  },
  {
   "cell_type": "code",
   "execution_count": null,
   "metadata": {
    "collapsed": false
   },
   "outputs": [],
   "source": [
    "my_list = []\n",
    "for i in range(5):\n",
    "    my_list.append(i)\n",
    "print(my_list)"
   ]
  },
  {
   "cell_type": "markdown",
   "metadata": {},
   "source": [
    "- List comprehesion"
   ]
  },
  {
   "cell_type": "code",
   "execution_count": null,
   "metadata": {
    "collapsed": false
   },
   "outputs": [],
   "source": [
    "my_other_list = [i for i in range(5)]\n",
    "print(my_other_list)"
   ]
  },
  {
   "cell_type": "markdown",
   "metadata": {},
   "source": [
    "- Indent and de-indent to enter and exit loop"
   ]
  },
  {
   "cell_type": "code",
   "execution_count": null,
   "metadata": {
    "collapsed": false
   },
   "outputs": [],
   "source": [
    "for a in range(0,5):\n",
    "    print(a)\n",
    "    print('still looping')\n",
    "print('we are done looping!')"
   ]
  },
  {
   "cell_type": "markdown",
   "metadata": {},
   "source": [
    "- Loop over values"
   ]
  },
  {
   "cell_type": "code",
   "execution_count": null,
   "metadata": {
    "collapsed": false
   },
   "outputs": [],
   "source": [
    "another_list = ['Cat','Dog',4]\n",
    "for item in another_list:\n",
    "    print(item)"
   ]
  },
  {
   "cell_type": "markdown",
   "metadata": {},
   "source": [
    " - enumerate"
   ]
  },
  {
   "cell_type": "code",
   "execution_count": null,
   "metadata": {
    "collapsed": false
   },
   "outputs": [],
   "source": [
    "names = ['Vasha','Dylan','Shariq']\n",
    "birthdays = ['January 7th', 'May 19th','Everyday!']\n",
    "for idx,name in enumerate(names):\n",
    "    print(name+'\\'s birthday is '+birthdays[idx])"
   ]
  },
  {
   "cell_type": "markdown",
   "metadata": {},
   "source": [
    "- Referencing - a possible pitfall!  \n",
    "    Python references objects (such as lists) by name by default instead of by value (see extra examples)"
   ]
  },
  {
   "cell_type": "markdown",
   "metadata": {},
   "source": [
    "- Python2 vs Python3 (Python3 came out in 2008! - Python2 really IS legacy now.)"
   ]
  },
  {
   "cell_type": "markdown",
   "metadata": {},
   "source": [
    "## Jupyter Notebooks in Python - Let's try it out!!!\n",
    "\n",
    "- Make Your First Notebook\n",
    "    - Go to your github repo folder and type: ![](./img/jupyternotebookcommand.png)\n",
    "    - File > New Notebook > Python\n",
    "- Make a code block\n",
    "    - Make a 'code' cell\n",
    "    - print('hello world')\n",
    "    - Shift+Enter to evaluate"
   ]
  },
  {
   "cell_type": "code",
   "execution_count": null,
   "metadata": {
    "collapsed": false
   },
   "outputs": [],
   "source": [
    "print('hello world')"
   ]
  },
  {
   "cell_type": "code",
   "execution_count": null,
   "metadata": {
    "collapsed": false
   },
   "outputs": [],
   "source": [
    "a = 3 + 2\n",
    "print(a)"
   ]
  },
  {
   "cell_type": "code",
   "execution_count": null,
   "metadata": {
    "collapsed": false
   },
   "outputs": [],
   "source": [
    "help(print)"
   ]
  },
  {
   "cell_type": "markdown",
   "metadata": {},
   "source": [
    "- Make a Markdown block\n",
    "    - \\+ button for new cell\n",
    "    - \\# and ## and ###... for headers\n",
    "    - LateX too!"
   ]
  },
  {
   "cell_type": "markdown",
   "metadata": {},
   "source": [
    "## A heading!\n",
    "\n",
    "centered LateX\n",
    "$$ y = mx + b $$\n",
    "\n",
    "inline LateX\n",
    "$\\alpha = \\beta + \\frac{\\epsilon}{\\Delta}$"
   ]
  },
  {
   "cell_type": "markdown",
   "metadata": {},
   "source": [
    "## Useful Packages & Datastructures in Python\n",
    "\n",
    "### Numpy\n",
    "- [`NumPy`](http://docs.scipy.org/doc/numpy/user/index.html) is a numerical computing library that adds support for vector and matrix math to Python. \n",
    "\n",
    "load library using `import`. Nickname with `as`."
   ]
  },
  {
   "cell_type": "code",
   "execution_count": null,
   "metadata": {
    "collapsed": false
   },
   "outputs": [],
   "source": [
    "import numpy as np\n",
    "\n",
    "#100 evenly-spaced numbers from 0 to 2π\n",
    "start = 0\n",
    "end = 2 * np.pi\n",
    "number_of_vals = 100\n",
    "x = np.linspace(start, end, number_of_vals)\n",
    "\n",
    "#calculate sin and cosine\n",
    "y = np.sin(x)\n",
    "z = np.cos(x)\n",
    "\n",
    "print(y)"
   ]
  },
  {
   "cell_type": "markdown",
   "metadata": {},
   "source": [
    "### Matplotlib\n",
    "- [`matplotlib`](http://matplotlib.org/resources/index.html) is a plotting library that uses a MATLAB-esque syntax.\n"
   ]
  },
  {
   "cell_type": "markdown",
   "metadata": {},
   "source": [
    "### Basic Plots!"
   ]
  },
  {
   "cell_type": "code",
   "execution_count": null,
   "metadata": {
    "collapsed": false
   },
   "outputs": [],
   "source": [
    "#import matplotlib\n",
    "import matplotlib.pyplot as plt\n",
    "\n",
    "#plot sin\n",
    "plt.plot(x, y, label='sin')\n",
    "#plot cosine\n",
    "plt.plot(x, z, ':', label='cos')\n",
    "\n",
    "#give us a legend please!\n",
    "plt.legend()\n",
    "\n",
    "#save it if you want\n",
    "plt.savefig('./sincos.png')\n",
    "plt.savefig('./sincos.pdf')\n",
    "\n",
    "#show our plot!\n",
    "plt.show()"
   ]
  },
  {
   "cell_type": "markdown",
   "metadata": {},
   "source": [
    "## Advanced Material (not interactive)"
   ]
  },
  {
   "cell_type": "code",
   "execution_count": null,
   "metadata": {
    "collapsed": false
   },
   "outputs": [],
   "source": [
    "#from numpy import poly1d #if we hadn't imported numpy already\n",
    "\n",
    "p = np.poly1d(np.array([3,4,5]))\n",
    "\n",
    "print('p is \\n',p)\n",
    "print('\\n')\n",
    "print('p*p is \\n',p*p)\n",
    "print('\\n')\n",
    "print('dx/dp is \\n',p.deriv())\n",
    "print('\\n')\n",
    "print('if x=2, p is \\n',p([2]))\n",
    "\n"
   ]
  },
  {
   "cell_type": "markdown",
   "metadata": {},
   "source": [
    " - linear algebra - np.linalg"
   ]
  },
  {
   "cell_type": "code",
   "execution_count": null,
   "metadata": {
    "collapsed": false
   },
   "outputs": [],
   "source": [
    "mat = np.array([[1,2],[3,4]])\n",
    "print('mat is \\n',mat)\n",
    "\n",
    "inv = np.lidnalg.inv(mat)\n",
    "print('inverse mat is \\n',inv)\n",
    "\n",
    "#dot = np.dot(mat,inv)\n",
    "dot = mat @ inv\n",
    "print('dot is \\n',dot)"
   ]
  },
  {
   "cell_type": "markdown",
   "metadata": {
    "collapsed": true
   },
   "source": [
    "Other great funtions in numpy - everththing from Matlab and more!  \n",
    "np.fft\n",
    "\n",
    "help(np)"
   ]
  },
  {
   "cell_type": "markdown",
   "metadata": {},
   "source": [
    "### Histograms and color!\n",
    "\n",
    "[Named colors in Matplotlib](http://matplotlib.org/examples/color/named_colors.html)"
   ]
  },
  {
   "cell_type": "code",
   "execution_count": null,
   "metadata": {
    "collapsed": false
   },
   "outputs": [],
   "source": [
    "#now make a histogram of the values of y\n",
    "plt.hist(y,color='burlywood')\n",
    "\n",
    "#draw a crimson line at 10\n",
    "plt.axhline(10, color='crimson')\n",
    "\n",
    "#draw a chartreuse line at the mean\n",
    "plt.axvline(np.mean(y), color='chartreuse')\n",
    "\n",
    "#give it a title\n",
    "plt.title('My burlywood plot with a purple line', fontsize=15)\n",
    "\n",
    "#and some axis names\n",
    "plt.xlabel('binned values of y',fontsize=12)\n",
    "plt.ylabel('occurances of y values')\n",
    "\n",
    "\n",
    "#show our plot please!\n",
    "plt.show()"
   ]
  },
  {
   "cell_type": "markdown",
   "metadata": {},
   "source": [
    "###  Heatmaps!"
   ]
  },
  {
   "cell_type": "code",
   "execution_count": null,
   "metadata": {
    "collapsed": false
   },
   "outputs": [],
   "source": [
    "rx = np.random.rand(10,1000) #make a 10x1000 array of random numbers\n",
    "print('rx has shape', rx.shape) #print the shape\n",
    "\n",
    "rx = np.reshape(rx,(100,100)) #oops i wanted it to be 100x100!\n",
    "print('rx now has shape',np.shape(rx)) #print the shape\n",
    "\n",
    "plt.pcolormesh(rx,cmap='viridis') #plot it\n",
    "plt.colorbar() #add a colorbar\n",
    "\n",
    "plt.title(r\"$\\alpha\\ \\beta\\ \\gamma\\ \\delta\\ \\epsilon$\") #give it a title with Latex\n",
    "plt.axis('off') #don't want axes\n",
    "\n",
    "plt.show()"
   ]
  },
  {
   "cell_type": "markdown",
   "metadata": {},
   "source": [
    "###  Subplotting!"
   ]
  },
  {
   "cell_type": "code",
   "execution_count": null,
   "metadata": {
    "collapsed": false
   },
   "outputs": [],
   "source": [
    "fig, axes = plt.subplots(nrows=1, ncols=2, figsize=(9, 4))\n",
    "\n",
    "# generate some random test data\n",
    "all_data = [np.random.normal(0, std, 100) for std in range(6, 10)]\n",
    "\n",
    "# plot violin plot\n",
    "axes[0].violinplot(all_data,\n",
    "                   showmeans=False,\n",
    "                   showmedians=True)\n",
    "axes[0].set_title('violin plot')\n",
    "\n",
    "# plot box plot\n",
    "axes[1].boxplot(all_data)\n",
    "axes[1].set_title('box plot')\n",
    "\n",
    "# adding horizontal grid lines\n",
    "for ax in axes:\n",
    "    ax.yaxis.grid(True)\n",
    "    ax.set_xticks([y+1 for y in range(len(all_data))])\n",
    "    ax.set_xlabel('xlabel')\n",
    "    ax.set_ylabel('ylabel')\n",
    "\n",
    "# add x-tick labels\n",
    "plt.setp(axes, xticks=[y+1 for y in range(len(all_data))],\n",
    "         xticklabels=['x1', 'x2', 'x3', 'x4'])\n",
    "plt.show()"
   ]
  },
  {
   "cell_type": "markdown",
   "metadata": {},
   "source": [
    "[matplotlib users guide](matplotlib.org/users/index.html)"
   ]
  },
  {
   "cell_type": "markdown",
   "metadata": {},
   "source": [
    "### Scipy\n",
    "- [`Scipy`](https://www.scipy.org/) a library useful for scientific programming, such as image readin, machine learning, and more!\n",
    "\n",
    "scipy.fftpack  \n",
    "scipy.linalg  \n",
    "scipy.signal  \n",
    "scipy.stats  \n",
    "scipy.io  \n",
    "scipy.optimize\n",
    "\n",
    "help(scipy) for more"
   ]
  },
  {
   "cell_type": "markdown",
   "metadata": {},
   "source": [
    "### imread and imshow"
   ]
  },
  {
   "cell_type": "code",
   "execution_count": null,
   "metadata": {
    "collapsed": false
   },
   "outputs": [],
   "source": [
    "from scipy import ndimage\n",
    "\n",
    "img = ndimage.imread('./img/screenshot.png')\n",
    "#img = ndimage.imread('./img/img.png')\n",
    "\n",
    "print('shape of img is',np.shape(img))\n",
    "print(img[1:2]) #show in matrix form\n",
    "\n",
    "plt.imshow(img,interpolation=None)\n",
    "plt.axis('off') #i dont' need axes here\n",
    "plt.show()"
   ]
  },
  {
   "cell_type": "code",
   "execution_count": null,
   "metadata": {
    "collapsed": false
   },
   "outputs": [],
   "source": [
    "img = ndimage.imread('./img/img.png', flatten=True)\n",
    "plt.imshow(img,cmap='gray')\n",
    "plt.axis('off')\n",
    "plt.show()"
   ]
  },
  {
   "cell_type": "markdown",
   "metadata": {},
   "source": [
    "## Resources \n",
    "\n",
    "[link to this Jupyter notebook](https://github.com/rctn/IntroToPythonAndGithub)\n",
    "\n",
    "\n",
    "(A lot of what is here is inspired by these)  \n",
    "- Entry Level Python - https://www.codecademy.com/learn/python  \n",
    "- Why to swith from Matlab to Python - https://ajminich.com/2013/06/22/9-reasons-to-switch-from-matlab-to-python/  \n",
    "- More Reasons to Switch - http://bastibe.de/2013-01-20-a-python-primer-for-matlab-users.html  \n",
    "- Numpy for Matlab Users - http://scipy.github.io/old-wiki/pages/NumPy_for_Matlab_Users.html  \n",
    "- Numpy/Matlab Legend http://mathesaurus.sourceforge.net/matlab-numpy.html  \n",
    "- Numpy/R Legend http://mathesaurus.sourceforge.net/r-numpy.html  \n",
    "- THE Python Tutorial - https://docs.python.org/3.3/tutorial/  \n",
    "- List of Tutorials - https://wiki.python.org/moin/BeginnersGuide/Programmers  \n",
    "- Python2 vs Python3 - http://sebastianraschka.com/Articles/2014_python_2_3_key_diff.html   \n",
    "- Python Style Guide - https://google.github.io/styleguide/pyguide.html  \n",
    "    "
   ]
  },
  {
   "cell_type": "markdown",
   "metadata": {},
   "source": [
    "## Commit This Jupyter Notebook to GitHub as a Repo!"
   ]
  },
  {
   "cell_type": "markdown",
   "metadata": {
    "collapsed": true
   },
   "source": [
    "in terminal: \n",
    "git add learningGithub.ipynb  \n",
    "git commit -m \"Did some useful tutorials\" # a short message  \n",
    "git push  "
   ]
  },
  {
   "cell_type": "markdown",
   "metadata": {},
   "source": [
    "## Going Beyond\n",
    "\n",
    "Other Python Plotting Software:\n",
    " - [plotly](http://plot.ly)\n",
    " - [Bokeh](http://bokeh.pydata.org/en/latest/)\n",
    " - [Seaborn](http://seaborn.pydata.org/)\n",
    " - [List of more](https://wiki.python.org/moin/NumericAndScientific/Plotting)\n",
    "\n",
    "Machine Learning libraries:\n",
    " - [Scikit-learn](http://scikit-learn.org/)\n",
    " - [Tensorflow](https://www.tensorflow.org/)/Theano/Caffe"
   ]
  },
  {
   "cell_type": "markdown",
   "metadata": {},
   "source": [
    "## Debugging (Shariq)"
   ]
  },
  {
   "cell_type": "code",
   "execution_count": 5,
   "metadata": {
    "collapsed": false
   },
   "outputs": [],
   "source": [
    "# 'pip install ipdb'\n",
    "import pdb # (I)nteractive (P)ython (D)e(b)ugger\n",
    "\n",
    "# Most helpful commands\n",
    "# n - Next - Execute the current line, move to the next\n",
    "# s - Step - Same as Next but will step into a function call\n",
    "# c - Continue - Execute lines until a breakpoint is hit\n",
    "# l - List - list source code for the current file\n",
    "# b - Break - Set a breakpoint (try: 'break 14, i==0', then: 'c', then: 'print (i)')\n",
    "# p - Print - \n",
    "# q - Quit - You got this\n",
    "# locals() - print local variables\n",
    "\n",
    "def foo(a):\n",
    "    total = 0\n",
    "    for i in range(5,-1,-1):\n",
    "        total = total + (a/i)\n",
    "    return total"
   ]
  },
  {
   "cell_type": "code",
   "execution_count": null,
   "metadata": {
    "collapsed": false
   },
   "outputs": [],
   "source": [
    "def bar(a):\n",
    "    #pdb.set_trace()\n",
    "    a = a * 10\n",
    "    return foo(a)\n",
    "bar(5)"
   ]
  },
  {
   "cell_type": "markdown",
   "metadata": {},
   "source": [
    "## Extra Examples"
   ]
  },
  {
   "cell_type": "code",
   "execution_count": null,
   "metadata": {
    "collapsed": false
   },
   "outputs": [],
   "source": [
    "def changelist(mylist):\n",
    "    newlist = mylist\n",
    "    newlist.append(3)\n",
    "    return(newlist)\n",
    "\n",
    "a = [1,2]\n",
    "print('a is ',a)\n",
    "\n",
    "print('calling changelist function...')\n",
    "b = changelist(a)\n",
    "\n",
    "print('b is ',b)\n",
    "print('a is ',a)"
   ]
  },
  {
   "cell_type": "code",
   "execution_count": null,
   "metadata": {
    "collapsed": false
   },
   "outputs": [],
   "source": [
    "import copy\n",
    "def deepcopylist(mylist):\n",
    "    #cnewlist = copy.deepcopy(mylist)\n",
    "    cnewlist = mylist[:]\n",
    "    cnewlist.append(3)\n",
    "    return(cnewlist)\n",
    "\n",
    "a = [1,2]\n",
    "print('a is ',a)\n",
    "\n",
    "print('calling deepcopylist function...')\n",
    "b = deepcopylist(a)\n",
    "\n",
    "print('b is ',b)\n",
    "print('a is ',a)\n"
   ]
  },
  {
   "cell_type": "code",
   "execution_count": null,
   "metadata": {
    "collapsed": true
   },
   "outputs": [],
   "source": []
  }
 ],
 "metadata": {
  "anaconda-cloud": {},
  "kernelspec": {
   "display_name": "Python [Root]",
   "language": "python",
   "name": "Python [Root]"
  },
  "language_info": {
   "codemirror_mode": {
    "name": "ipython",
    "version": 3
   },
   "file_extension": ".py",
   "mimetype": "text/x-python",
   "name": "python",
   "nbconvert_exporter": "python",
   "pygments_lexer": "ipython3",
   "version": "3.5.2"
  }
 },
 "nbformat": 4,
 "nbformat_minor": 1
}
