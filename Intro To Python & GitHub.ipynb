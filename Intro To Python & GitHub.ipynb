{
 "cells": [
  {
   "cell_type": "markdown",
   "metadata": {},
   "source": [
    "<img src=\"./img/WorkshopSeriesHeader.png\"/>\n",
    "<h1 align=\"center\"> Intro to Python and GitHub </h1>"
   ]
  },
  {
   "cell_type": "markdown",
   "metadata": {},
   "source": [
    "## PreSuggestions\n",
    "### Background Knowledge:\n",
    " - Some kind of programming experience\n",
    "     - basic concepts like for loops & if statements in any language\n",
    "     - if not see  https://www.codecademy.com/learn/python\n",
    "\n",
    "### GitHub Account:\n",
    "    http://github.com/join/\n",
    "\n",
    "### Software Installed: \n",
    "- Anaconda Python\n",
    "- Jupyter Notebooks (includes numpy, ipython)"
   ]
  },
  {
   "cell_type": "markdown",
   "metadata": {},
   "source": [
    "## GitHub (Dylan)\n",
    " - Setup a Repo\n",
    " - Commit to it"
   ]
  },
  {
   "cell_type": "markdown",
   "metadata": {},
   "source": [
    "## Resources \n",
    "(A lot of what is here is inspired by these)  \n",
    "- Entry Level Python - https://www.codecademy.com/learn/python  \n",
    "- Why to swith from Matlab to Python - https://ajminich.com/2013/06/22/9-reasons-to-switch-from-matlab-to-python/  \n",
    "- More Reasons to Switch - http://bastibe.de/2013-01-20-a-python-primer-for-matlab-users.html  \n",
    "- Numpy for Matlab Users - http://scipy.github.io/old-wiki/pages/NumPy_for_Matlab_Users.html  \n",
    "- Numpy/Matlab Legend http://mathesaurus.sourceforge.net/matlab-numpy.html  \n",
    "- Numpy/R Legend http://mathesaurus.sourceforge.net/r-numpy.html  \n",
    "- THE Python Tutorial - https://docs.python.org/3.3/tutorial/  \n",
    "- List of Tutorials - https://wiki.python.org/moin/BeginnersGuide/Programmers  \n",
    "- Python2 vs Python3 - http://sebastianraschka.com/Articles/2014_python_2_3_key_diff.html   \n",
    "- Python Style Guide - https://google.github.io/styleguide/pyguide.html  \n",
    "    "
   ]
  },
  {
   "cell_type": "markdown",
   "metadata": {},
   "source": [
    "## Why Python is Great!\n",
    "\n",
    "- Free\n",
    "- Scripts & Object orientede programming\n",
    "- DB Management Libraries\n",
    "- Website (flask)\n",
    "- AWESOME support"
   ]
  },
  {
   "cell_type": "markdown",
   "metadata": {},
   "source": [
    "## Differences between Python3 and other Languages\n",
    "\n",
    "What Languages are people familiar with? (Matlab, R, C, others?)\n",
    "\n",
    "- No IDE, so how can we interact with it ???\n",
    "     - Run scripts directly from command line. But you'll need an editor (atom, sublimetext, emacs/vim) **example**\n",
    "     - ipython\n",
    "     - Use Jupyter notebooks (my preferred - but won't work well on a scheduled cluster)\n",
    "     - SPIDER IDE\n",
    "     - JupyterLab (still in $\\alpha$)\n",
    "- inferred datatypes\n",
    "- whitespace language\n",
    "    - don't need 'end' to end a loop, just de-indent"
   ]
  },
  {
   "cell_type": "code",
   "execution_count": 50,
   "metadata": {
    "collapsed": false
   },
   "outputs": [
    {
     "name": "stdout",
     "output_type": "stream",
     "text": [
      "0\n",
      "still looping\n",
      "1\n",
      "still looping\n",
      "2\n",
      "still looping\n",
      "3\n",
      "still looping\n",
      "4\n",
      "still looping\n",
      "we're done looping!\n"
     ]
    }
   ],
   "source": [
    "for a in range(0,5):\n",
    "    print(a)\n",
    "    print('still looping')\n",
    "print('we\\'re done looping!')"
   ]
  },
  {
   "cell_type": "markdown",
   "metadata": {},
   "source": [
    "    - no {} required as in C\n",
    "- mutable strings"
   ]
  },
  {
   "cell_type": "code",
   "execution_count": 36,
   "metadata": {
    "collapsed": false
   },
   "outputs": [
    {
     "name": "stdout",
     "output_type": "stream",
     "text": [
      "a is  [1, 2]\n",
      "calling changelist function...\n",
      "a is  [1, 2, 3]\n",
      "b is  [1, 2, 3]\n"
     ]
    }
   ],
   "source": [
    "def changelist(mylist):\n",
    "    newlist = mylist\n",
    "    newlist.append(3)\n",
    "    return(newlist)\n",
    "\n",
    "a = [1,2]\n",
    "print('a is ',a)\n",
    "\n",
    "print('calling changelist function...')\n",
    "b = changelist(a)\n",
    "\n",
    "print('a is ',a)\n",
    "print('b is ',b)"
   ]
  },
  {
   "cell_type": "code",
   "execution_count": 37,
   "metadata": {
    "collapsed": false
   },
   "outputs": [
    {
     "name": "stdout",
     "output_type": "stream",
     "text": [
      "a is  [1, 2]\n",
      "calling deepcopylist function...\n",
      "a is  [1, 2]\n",
      "b is  [1, 2, 3]\n"
     ]
    }
   ],
   "source": [
    "import copy\n",
    "def deepcopylist(mylist):\n",
    "    dcnewlist = copy.deepcopy(mylist)\n",
    "    dcnewlist.append(3)\n",
    "    return(dcnewlist)\n",
    "\n",
    "a = [1,2]\n",
    "print('a is ',a)\n",
    "\n",
    "print('calling deepcopylist function...')\n",
    "b = deepcopylist(a)\n",
    "\n",
    "print('a is ',a)\n",
    "print('b is ',b)"
   ]
  },
  {
   "cell_type": "markdown",
   "metadata": {},
   "source": [
    "- zero based indexing"
   ]
  },
  {
   "cell_type": "code",
   "execution_count": 38,
   "metadata": {
    "collapsed": false
   },
   "outputs": [
    {
     "name": "stdout",
     "output_type": "stream",
     "text": [
      "vector[0] is  a\n",
      "vector[1] is  b\n"
     ]
    }
   ],
   "source": [
    "vector = ['a','b','c','d']\n",
    "print('vector[0] is ', vector[0])\n",
    "print('vector[1] is ', vector[1])"
   ]
  },
  {
   "cell_type": "markdown",
   "metadata": {},
   "source": [
    "- Python2 vs Python3 (Python3 came out in 2008! - Python2 really IS legacy now.)"
   ]
  },
  {
   "cell_type": "markdown",
   "metadata": {},
   "source": [
    "## Jupyter Notebooks in Python - Let's try it out!!!\n",
    "\n",
    "- Make Your First Notebook\n",
    "    - Go to your github repo folder and type: ![](./img/jupyternotebookcommand.png)\n",
    "    - File > New Notebook > Python\n",
    "- Make a code block\n",
    "    - Make a 'code' cell\n",
    "    - print('hello world')\n",
    "    - Shift+Enter to evaluate"
   ]
  },
  {
   "cell_type": "code",
   "execution_count": 39,
   "metadata": {
    "collapsed": false
   },
   "outputs": [
    {
     "name": "stdout",
     "output_type": "stream",
     "text": [
      "hello world\n"
     ]
    }
   ],
   "source": [
    "print('hello world')"
   ]
  },
  {
   "cell_type": "code",
   "execution_count": 40,
   "metadata": {
    "collapsed": false
   },
   "outputs": [
    {
     "name": "stdout",
     "output_type": "stream",
     "text": [
      "5\n"
     ]
    }
   ],
   "source": [
    "a = 3 + 2\n",
    "print(a)"
   ]
  },
  {
   "cell_type": "markdown",
   "metadata": {},
   "source": [
    "- Make a Markdown block\n",
    "    - \\+ button for new cell\n",
    "    - \\# and ## and ###... for headers\n",
    "    - LateX too!"
   ]
  },
  {
   "cell_type": "markdown",
   "metadata": {},
   "source": [
    "## A heading!\n",
    "\n",
    "centered LateX\n",
    "$$ y = mx + b $$\n",
    "\n",
    "inline LateX\n",
    "$\\alpha = \\beta + \\frac{\\epsilon}{\\Delta}$"
   ]
  },
  {
   "cell_type": "markdown",
   "metadata": {},
   "source": [
    "## Useful Packages & Datastructures in Python\n",
    "\n",
    "### Numpy\n",
    "- [`NumPy`](http://docs.scipy.org/doc/numpy/user/index.html) is a numerical computing library that adds support for vector and matrix math to Python. \n",
    "\n",
    "load library using `import`. Nickname with `as`."
   ]
  },
  {
   "cell_type": "code",
   "execution_count": 59,
   "metadata": {
    "collapsed": false
   },
   "outputs": [
    {
     "name": "stdout",
     "output_type": "stream",
     "text": [
      "[  0.00000000e+00   6.34239197e-02   1.26592454e-01   1.89251244e-01\n",
      "   2.51147987e-01   3.12033446e-01   3.71662456e-01   4.29794912e-01\n",
      "   4.86196736e-01   5.40640817e-01   5.92907929e-01   6.42787610e-01\n",
      "   6.90079011e-01   7.34591709e-01   7.76146464e-01   8.14575952e-01\n",
      "   8.49725430e-01   8.81453363e-01   9.09631995e-01   9.34147860e-01\n",
      "   9.54902241e-01   9.71811568e-01   9.84807753e-01   9.93838464e-01\n",
      "   9.98867339e-01   9.99874128e-01   9.96854776e-01   9.89821442e-01\n",
      "   9.78802446e-01   9.63842159e-01   9.45000819e-01   9.22354294e-01\n",
      "   8.95993774e-01   8.66025404e-01   8.32569855e-01   7.95761841e-01\n",
      "   7.55749574e-01   7.12694171e-01   6.66769001e-01   6.18158986e-01\n",
      "   5.67059864e-01   5.13677392e-01   4.58226522e-01   4.00930535e-01\n",
      "   3.42020143e-01   2.81732557e-01   2.20310533e-01   1.58001396e-01\n",
      "   9.50560433e-02   3.17279335e-02  -3.17279335e-02  -9.50560433e-02\n",
      "  -1.58001396e-01  -2.20310533e-01  -2.81732557e-01  -3.42020143e-01\n",
      "  -4.00930535e-01  -4.58226522e-01  -5.13677392e-01  -5.67059864e-01\n",
      "  -6.18158986e-01  -6.66769001e-01  -7.12694171e-01  -7.55749574e-01\n",
      "  -7.95761841e-01  -8.32569855e-01  -8.66025404e-01  -8.95993774e-01\n",
      "  -9.22354294e-01  -9.45000819e-01  -9.63842159e-01  -9.78802446e-01\n",
      "  -9.89821442e-01  -9.96854776e-01  -9.99874128e-01  -9.98867339e-01\n",
      "  -9.93838464e-01  -9.84807753e-01  -9.71811568e-01  -9.54902241e-01\n",
      "  -9.34147860e-01  -9.09631995e-01  -8.81453363e-01  -8.49725430e-01\n",
      "  -8.14575952e-01  -7.76146464e-01  -7.34591709e-01  -6.90079011e-01\n",
      "  -6.42787610e-01  -5.92907929e-01  -5.40640817e-01  -4.86196736e-01\n",
      "  -4.29794912e-01  -3.71662456e-01  -3.12033446e-01  -2.51147987e-01\n",
      "  -1.89251244e-01  -1.26592454e-01  -6.34239197e-02  -2.44929360e-16]\n"
     ]
    }
   ],
   "source": [
    "import numpy as np\n",
    "\n",
    "x = np.linspace(0,2*np.pi,100) #evenly-spaced numbers from 0 to 2π\n",
    "y = np.sin(x)\n",
    "z = np.cos(x)\n",
    "\n",
    "print(y)"
   ]
  },
  {
   "cell_type": "markdown",
   "metadata": {},
   "source": [
    "### Matplotlib\n",
    "- [`matplotlib`](http://matplotlib.org/resources/index.html) is a plotting library that uses a MATLAB-esque syntax.\n"
   ]
  },
  {
   "cell_type": "code",
   "execution_count": 65,
   "metadata": {
    "collapsed": false
   },
   "outputs": [
    {
     "data": {
      "image/png": "[encoded data removed]",
      "text/plain": [
       "<matplotlib.figure.Figure at 0x10e4ef198>"
      ]
     },
     "metadata": {},
     "output_type": "display_data"
    }
   ],
   "source": [
    "#import matplotlib\n",
    "import matplotlib.pyplot as plt\n",
    "\n",
    "#plot sin\n",
    "plt.plot(x,y, label='sin')\n",
    "#plot cosine\n",
    "plt.plot(x,z, label='cos')\n",
    "\n",
    "#give us a legend please!\n",
    "plt.legend()\n",
    "\n",
    "#show our plot!\n",
    "plt.show()"
   ]
  },
  {
   "cell_type": "code",
   "execution_count": 78,
   "metadata": {
    "collapsed": false
   },
   "outputs": [
    {
     "data": {
      "image/png": "[encoded data removed]",
      "text/plain": [
       "<matplotlib.figure.Figure at 0x10e5f3e80>"
      ]
     },
     "metadata": {},
     "output_type": "display_data"
    }
   ],
   "source": [
    "#now make a histogram of the values of y\n",
    "plt.hist(y,color='burlywood')\n",
    "\n",
    "#draw a green line at 10\n",
    "plt.axhline(10, color='purple')\n",
    "\n",
    "plt.title('My burlywood plot with a purple line')\n",
    "\n",
    "#show our plot please!\n",
    "plt.show()"
   ]
  },
  {
   "cell_type": "code",
   "execution_count": 85,
   "metadata": {
    "collapsed": false
   },
   "outputs": [
    {
     "ename": "SyntaxError",
     "evalue": "keyword can't be an expression (<ipython-input-85-d79bad2c0cf8>, line 2)",
     "output_type": "error",
     "traceback": [
      "\u001b[0;36m  File \u001b[0;32m\"<ipython-input-85-d79bad2c0cf8>\"\u001b[0;36m, line \u001b[0;32m2\u001b[0m\n\u001b[0;31m    d = np.fromfile(fid, np.dtype=('unit8'))\u001b[0m\n\u001b[0m                        ^\u001b[0m\n\u001b[0;31mSyntaxError\u001b[0m\u001b[0;31m:\u001b[0m keyword can't be an expression\n"
     ]
    }
   ],
   "source": [
    "with open('./img/img.png','rb') as fid:\n",
    "    d = np.fromfile(fid, np.dtype=('unit8'))\n",
    "np.pcolormesh(d)"
   ]
  },
  {
   "cell_type": "markdown",
   "metadata": {},
   "source": [
    "## Going Beyond\n",
    "\n",
    "More Advanced Plotting Software:\n",
    " - [Bokeh](http://bokeh.pydata.org/en/latest/)\n",
    " - [Seaborn](http://seaborn.pydata.org/)\n",
    "\n",
    "ML libraries:\n",
    " - [Scikit-learn](http://scikit-learn.org/)\n",
    " - [Tensorflow](https://www.tensorflow.org/)/Theano/Caffe"
   ]
  },
  {
   "cell_type": "markdown",
   "metadata": {},
   "source": [
    "## Debugging (Shariq)"
   ]
  },
  {
   "cell_type": "code",
   "execution_count": null,
   "metadata": {
    "collapsed": true
   },
   "outputs": [],
   "source": []
  },
  {
   "cell_type": "markdown",
   "metadata": {},
   "source": [
    "## Commit This Jupyter Notebook to GitHub as a Repo! (Dylan)"
   ]
  },
  {
   "cell_type": "code",
   "execution_count": null,
   "metadata": {
    "collapsed": true
   },
   "outputs": [],
   "source": []
  }
 ],
 "metadata": {
  "anaconda-cloud": {},
  "kernelspec": {
   "display_name": "Python [default]",
   "language": "python",
   "name": "python3"
  },
  "language_info": {
   "codemirror_mode": {
    "name": "ipython",
    "version": 3
   },
   "file_extension": ".py",
   "mimetype": "text/x-python",
   "name": "python",
   "nbconvert_exporter": "python",
   "pygments_lexer": "ipython3",
   "version": "3.5.2"
  }
 },
 "nbformat": 4,
 "nbformat_minor": 1
}
