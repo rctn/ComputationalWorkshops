{
 "cells": [
  {
   "cell_type": "code",
   "execution_count": 1,
   "metadata": {
    "collapsed": false,
    "scrolled": true
   },
   "outputs": [],
   "source": [
    "import tensorflow as tf\n",
    "from tensorflow.examples.tutorials.mnist import input_data\n",
    "import numpy as np"
   ]
  },
  {
   "cell_type": "code",
   "execution_count": 2,
   "metadata": {
    "collapsed": false
   },
   "outputs": [
    {
     "name": "stdout",
     "output_type": "stream",
     "text": [
      "Extracting MNIST_data/train-images-idx3-ubyte.gz\n",
      "Extracting MNIST_data/train-labels-idx1-ubyte.gz\n",
      "Extracting MNIST_data/t10k-images-idx3-ubyte.gz\n",
      "Extracting MNIST_data/t10k-labels-idx1-ubyte.gz\n",
      "Train:55000\n",
      "Val:5000\n",
      "Test:10000\n",
      "\n",
      "The training set has 55000 images that each have 784 pixels and can be sorted into 10 categories\n"
     ]
    }
   ],
   "source": [
    "mnist = input_data.read_data_sets(\"MNIST_data/\", one_hot=True)\n",
    "\n",
    "# MNIST object has train, test, val sets built in\n",
    "print(\"Train:%g\\nVal:%g\\nTest:%g\\n\"%(mnist.train.num_examples,\n",
    "  mnist.validation.num_examples, mnist.test.num_examples))\n",
    "\n",
    "# Within the train object are the images and one-hot labels\n",
    "num_train_images, num_pixels = mnist.train.images.shape\n",
    "_, num_labels = mnist.train.labels.shape\n",
    "print(\"The training set has %d images that each have %d pixels and can be sorted into %d categories\"%(\n",
    "  num_train_images, num_pixels, num_labels))"
   ]
  },
  {
   "cell_type": "code",
   "execution_count": 3,
   "metadata": {
    "collapsed": false
   },
   "outputs": [],
   "source": [
    "# Placeholders are used for your inputs or meta-parameters (independent variables)\n",
    "# None indicates that we will specify that dimension later. It is for our batch size.\n",
    "lr = tf.placeholder(tf.float32, shape=())\n",
    "x = tf.placeholder(tf.float32, [None, num_pixels]) # Input images\n",
    "y = tf.placeholder(tf.float32, [None, 10]) #Ground truth labels \n",
    "\n",
    "# Variables are persistent and can be learned\n",
    "# We can write a simple regression (y = Wx + b) as:\n",
    "W = tf.Variable(tf.zeros([num_pixels, num_labels]))\n",
    "b = tf.Variable(tf.zeros([num_labels]))\n",
    "\n",
    "# The rest of the graph can be described in terms of\n",
    "# existing Variables and Placeholders\n",
    "logits = tf.add(tf.matmul(x, W), b)\n",
    "p_ = tf.nn.softmax(logits) # Network output is a probability\n",
    "cross_entropy = tf.reduce_mean(-tf.reduce_sum(y * tf.log(p_), reduction_indices=[1])) # Loss function\n",
    "\n",
    "# The tf.train module has many types of optimization functions\n",
    "optimizer = tf.train.GradientDescentOptimizer(lr).minimize(cross_entropy)\n",
    "\n",
    "# correct_prediction will give us a list of True/False values for if the\n",
    "# ground truth matched the network outputs\n",
    "correct_prediction = tf.equal(tf.argmax(y,1), tf.argmax(p_,1))\n",
    "\n",
    "# Then we cast the True/False values to floats and find the mean to get\n",
    "# accuracy\n",
    "accuracy = tf.reduce_mean(tf.cast(correct_prediction, \"float\"))\n",
    "\n",
    "# You have to define a initializer operation to set up the graph in a session\n",
    "init_op = tf.initialize_all_variables()"
   ]
  },
  {
   "cell_type": "code",
   "execution_count": 10,
   "metadata": {
    "collapsed": false
   },
   "outputs": [
    {
     "name": "stdout",
     "output_type": "stream",
     "text": [
      "Validation accuracy at epoch 0 was 85.14%\n",
      "Validation accuracy at epoch 1 was 87.1%\n",
      "Validation accuracy at epoch 2 was 87.98%\n",
      "Validation accuracy at epoch 3 was 88.52%\n",
      "Validation accuracy at epoch 4 was 89%\n",
      "Validation accuracy at epoch 5 was 89.34%\n",
      "Validation accuracy at epoch 6 was 89.52%\n",
      "Validation accuracy at epoch 7 was 89.7%\n",
      "Validation accuracy at epoch 8 was 89.88%\n",
      "Validation accuracy at epoch 9 was 90.16%\n",
      "Test accuracy is 90.18%\n"
     ]
    }
   ],
   "source": [
    "num_epochs = 10\n",
    "batch_size = 100\n",
    "learning_rate = 0.01\n",
    "num_batches = int(num_train_images / batch_size)\n",
    "\n",
    "## Once our graph is constructed, we can create a session to run the graph\n",
    "with tf.Session() as sess:\n",
    "    # initialize the graph\n",
    "    sess.run(init_op, feed_dict={x:np.zeros((batch_size, num_pixels)), y:np.zeros((batch_size, num_labels))})\n",
    "    \n",
    "    for epoch in range(num_epochs):\n",
    "        for batch in range(num_batches):\n",
    "            (images, labels) = mnist.train.next_batch(batch_size)\n",
    "            # Feed dictionary fills in placeholders for our model\n",
    "            feed_dict = {x:images, y:labels, lr:learning_rate}\n",
    "            sess.run(optimizer, feed_dict)\n",
    "        val_accuracy = sess.run(accuracy, feed_dict={x:mnist.validation.images, y:mnist.validation.labels})\n",
    "        print(\"Validation accuracy at epoch %g was %g%%\"%(epoch, 100*val_accuracy))\n",
    "    #Final test accuracy\n",
    "    print(\"Test accuracy is %g%%\"%(100*sess.run(accuracy, feed_dict={x:mnist.test.images, y:mnist.test.labels})))"
   ]
  }
 ],
 "metadata": {
  "kernelspec": {
   "display_name": "Python 3",
   "language": "python",
   "name": "python3"
  },
  "language_info": {
   "codemirror_mode": {
    "name": "ipython",
    "version": 3
   },
   "file_extension": ".py",
   "mimetype": "text/x-python",
   "name": "python",
   "nbconvert_exporter": "python",
   "pygments_lexer": "ipython3",
   "version": "3.5.2"
  }
 },
 "nbformat": 4,
 "nbformat_minor": 1
}
